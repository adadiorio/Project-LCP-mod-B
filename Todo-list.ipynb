{
 "cells": [
  {
   "cell_type": "markdown",
   "id": "40d4dfdb-2cb7-409c-ac45-d6ae0e41dc29",
   "metadata": {},
   "source": [
    "### To do\n",
    "\n",
    "- LAST TOKEN (chiedere a Byers, vettore distanze rispetto a l.t.)\n",
    "- Ragionare su come studiare la dinamica dell'ultimo token (end-of-sentence, token 13)\n",
    "- Presentazione power point\n",
    "- Explore different prompts\n",
    "- Check whether the last token is the only one that influences the predicted word"
   ]
  },
  {
   "cell_type": "markdown",
   "id": "9ecc77f2-0ca1-4f7c-a062-668b67765dcd",
   "metadata": {},
   "source": [
    "### To discuss\n",
    "- Last token\n",
    "- Confronto tra metriche con DADApy (indicatore finale ID?)\n",
    "- Skip connection (update progressi)\n",
    "- Information imbalance? È utile studiarla nel nostro caso?\n",
    "- Ha senso eseguire le analisi di statistica bayesiana?\n",
    "- Fine del lavoro, quanto tempo abbiamo per la presentazione, quante slides"
   ]
  },
  {
   "cell_type": "code",
   "execution_count": null,
   "id": "947f92e1-5a08-4587-a5f4-85eebdef7908",
   "metadata": {},
   "outputs": [],
   "source": []
  }
 ],
 "metadata": {
  "kernelspec": {
   "display_name": "Python 3 (ipykernel)",
   "language": "python",
   "name": "python3"
  },
  "language_info": {
   "codemirror_mode": {
    "name": "ipython",
    "version": 3
   },
   "file_extension": ".py",
   "mimetype": "text/x-python",
   "name": "python",
   "nbconvert_exporter": "python",
   "pygments_lexer": "ipython3",
   "version": "3.12.2"
  }
 },
 "nbformat": 4,
 "nbformat_minor": 5
}
